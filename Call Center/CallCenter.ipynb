{
 "cells": [
  {
   "cell_type": "code",
   "execution_count": 2,
   "metadata": {},
   "outputs": [],
   "source": [
    "# Load in some packages\n",
    "import matplotlib\n",
    "%matplotlib inline\n",
    "import numpy as np\n",
    "import pandas as pd\n",
    "import os"
   ]
  },
  {
   "cell_type": "markdown",
   "metadata": {},
   "source": [
    "Data Exploration and Cleaning"
   ]
  },
  {
   "cell_type": "code",
   "execution_count": 3,
   "metadata": {},
   "outputs": [],
   "source": [
    "# Reading Data\n",
    "callcenter= pd.read_csv(\"CallCenterData.csv\")"
   ]
  },
  {
   "cell_type": "code",
   "execution_count": 4,
   "metadata": {},
   "outputs": [
    {
     "data": {
      "text/plain": [
       "(46632, 18)"
      ]
     },
     "execution_count": 4,
     "metadata": {},
     "output_type": "execute_result"
    }
   ],
   "source": [
    "#check dimensions\n",
    "callcenter.shape"
   ]
  },
  {
   "cell_type": "code",
   "execution_count": 5,
   "metadata": {},
   "outputs": [
    {
     "data": {
      "text/plain": [
       "Call ID         float64\n",
       "Call Date        object\n",
       "Customer ID      object\n",
       "Priority         object\n",
       "Query Type      float64\n",
       "IVR start        object\n",
       "IVR fin          object\n",
       "IVR time        float64\n",
       "Queue start      object\n",
       "Queue fin        object\n",
       "Queue time      float64\n",
       "Agent?           object\n",
       "Agent start      object\n",
       "Agent end        object\n",
       "Agent time      float64\n",
       "Agent Name       object\n",
       "Satisfaction    float64\n",
       "Resolved         object\n",
       "dtype: object"
      ]
     },
     "execution_count": 5,
     "metadata": {},
     "output_type": "execute_result"
    }
   ],
   "source": [
    "# Check data types\n",
    "callcenter.dtypes"
   ]
  },
  {
   "cell_type": "code",
   "execution_count": 6,
   "metadata": {},
   "outputs": [
    {
     "data": {
      "text/html": [
       "<div>\n",
       "<style scoped>\n",
       "    .dataframe tbody tr th:only-of-type {\n",
       "        vertical-align: middle;\n",
       "    }\n",
       "\n",
       "    .dataframe tbody tr th {\n",
       "        vertical-align: top;\n",
       "    }\n",
       "\n",
       "    .dataframe thead th {\n",
       "        text-align: right;\n",
       "    }\n",
       "</style>\n",
       "<table border=\"1\" class=\"dataframe\">\n",
       "  <thead>\n",
       "    <tr style=\"text-align: right;\">\n",
       "      <th></th>\n",
       "      <th>Call ID</th>\n",
       "      <th>Call Date</th>\n",
       "      <th>Customer ID</th>\n",
       "      <th>Priority</th>\n",
       "      <th>Query Type</th>\n",
       "      <th>IVR start</th>\n",
       "      <th>IVR fin</th>\n",
       "      <th>IVR time</th>\n",
       "      <th>Queue start</th>\n",
       "      <th>Queue fin</th>\n",
       "      <th>Queue time</th>\n",
       "      <th>Agent?</th>\n",
       "      <th>Agent start</th>\n",
       "      <th>Agent end</th>\n",
       "      <th>Agent time</th>\n",
       "      <th>Agent Name</th>\n",
       "      <th>Satisfaction</th>\n",
       "      <th>Resolved</th>\n",
       "    </tr>\n",
       "  </thead>\n",
       "  <tbody>\n",
       "    <tr>\n",
       "      <th>0</th>\n",
       "      <td>68269.0</td>\n",
       "      <td>7/1/2017</td>\n",
       "      <td>CRN287429</td>\n",
       "      <td>Medium</td>\n",
       "      <td>3.0</td>\n",
       "      <td>6:56:28</td>\n",
       "      <td>6:56:30</td>\n",
       "      <td>2.0</td>\n",
       "      <td>0:00:00</td>\n",
       "      <td>0:00:00</td>\n",
       "      <td>0.0</td>\n",
       "      <td>YES</td>\n",
       "      <td>6:56:29</td>\n",
       "      <td>6:56:35</td>\n",
       "      <td>6.0</td>\n",
       "      <td>Stevens</td>\n",
       "      <td>3.0</td>\n",
       "      <td>Yes</td>\n",
       "    </tr>\n",
       "    <tr>\n",
       "      <th>1</th>\n",
       "      <td>68272.0</td>\n",
       "      <td>7/1/2017</td>\n",
       "      <td>NaN</td>\n",
       "      <td>Low</td>\n",
       "      <td>4.0</td>\n",
       "      <td>7:54:35</td>\n",
       "      <td>7:54:49</td>\n",
       "      <td>14.0</td>\n",
       "      <td>0:00:00</td>\n",
       "      <td>0:00:00</td>\n",
       "      <td>0.0</td>\n",
       "      <td>YES</td>\n",
       "      <td>7:54:50</td>\n",
       "      <td>7:54:54</td>\n",
       "      <td>4.0</td>\n",
       "      <td>Adams</td>\n",
       "      <td>4.0</td>\n",
       "      <td>Yes</td>\n",
       "    </tr>\n",
       "    <tr>\n",
       "      <th>2</th>\n",
       "      <td>68273.0</td>\n",
       "      <td>7/1/2017</td>\n",
       "      <td>CRN446217</td>\n",
       "      <td>Low</td>\n",
       "      <td>1.0</td>\n",
       "      <td>7:56:33</td>\n",
       "      <td>7:56:42</td>\n",
       "      <td>9.0</td>\n",
       "      <td>0:00:00</td>\n",
       "      <td>0:00:00</td>\n",
       "      <td>0.0</td>\n",
       "      <td>YES</td>\n",
       "      <td>7:56:41</td>\n",
       "      <td>7:57:54</td>\n",
       "      <td>73.0</td>\n",
       "      <td>Berkhart</td>\n",
       "      <td>4.0</td>\n",
       "      <td>Yes</td>\n",
       "    </tr>\n",
       "    <tr>\n",
       "      <th>3</th>\n",
       "      <td>68276.0</td>\n",
       "      <td>7/1/2017</td>\n",
       "      <td>CRN297556</td>\n",
       "      <td>Low</td>\n",
       "      <td>1.0</td>\n",
       "      <td>8:00:53</td>\n",
       "      <td>8:01:03</td>\n",
       "      <td>10.0</td>\n",
       "      <td>0:00:00</td>\n",
       "      <td>0:00:00</td>\n",
       "      <td>0.0</td>\n",
       "      <td>YES</td>\n",
       "      <td>8:01:02</td>\n",
       "      <td>8:02:58</td>\n",
       "      <td>116.0</td>\n",
       "      <td>Adams</td>\n",
       "      <td>4.0</td>\n",
       "      <td>Yes</td>\n",
       "    </tr>\n",
       "    <tr>\n",
       "      <th>4</th>\n",
       "      <td>68278.0</td>\n",
       "      <td>7/1/2017</td>\n",
       "      <td>CRN553214</td>\n",
       "      <td>Low</td>\n",
       "      <td>1.0</td>\n",
       "      <td>8:03:18</td>\n",
       "      <td>8:03:27</td>\n",
       "      <td>9.0</td>\n",
       "      <td>0:00:00</td>\n",
       "      <td>0:00:00</td>\n",
       "      <td>0.0</td>\n",
       "      <td>YES</td>\n",
       "      <td>8:03:26</td>\n",
       "      <td>8:09:46</td>\n",
       "      <td>380.0</td>\n",
       "      <td>Berkhart</td>\n",
       "      <td>4.0</td>\n",
       "      <td>Yes</td>\n",
       "    </tr>\n",
       "  </tbody>\n",
       "</table>\n",
       "</div>"
      ],
      "text/plain": [
       "   Call ID Call Date Customer ID Priority  Query Type IVR start  IVR fin  \\\n",
       "0  68269.0  7/1/2017   CRN287429   Medium         3.0   6:56:28  6:56:30   \n",
       "1  68272.0  7/1/2017         NaN      Low         4.0   7:54:35  7:54:49   \n",
       "2  68273.0  7/1/2017   CRN446217      Low         1.0   7:56:33  7:56:42   \n",
       "3  68276.0  7/1/2017   CRN297556      Low         1.0   8:00:53  8:01:03   \n",
       "4  68278.0  7/1/2017   CRN553214      Low         1.0   8:03:18  8:03:27   \n",
       "\n",
       "   IVR time Queue start Queue fin  Queue time Agent? Agent start Agent end  \\\n",
       "0       2.0     0:00:00   0:00:00         0.0    YES     6:56:29   6:56:35   \n",
       "1      14.0     0:00:00   0:00:00         0.0    YES     7:54:50   7:54:54   \n",
       "2       9.0     0:00:00   0:00:00         0.0    YES     7:56:41   7:57:54   \n",
       "3      10.0     0:00:00   0:00:00         0.0    YES     8:01:02   8:02:58   \n",
       "4       9.0     0:00:00   0:00:00         0.0    YES     8:03:26   8:09:46   \n",
       "\n",
       "   Agent time Agent Name  Satisfaction Resolved  \n",
       "0         6.0    Stevens           3.0      Yes  \n",
       "1         4.0      Adams           4.0      Yes  \n",
       "2        73.0   Berkhart           4.0      Yes  \n",
       "3       116.0      Adams           4.0      Yes  \n",
       "4       380.0   Berkhart           4.0      Yes  "
      ]
     },
     "execution_count": 6,
     "metadata": {},
     "output_type": "execute_result"
    }
   ],
   "source": [
    "# viewing the top 5 rows of data\n",
    "callcenter.head(5)"
   ]
  },
  {
   "cell_type": "code",
   "execution_count": 7,
   "metadata": {},
   "outputs": [
    {
     "data": {
      "text/html": [
       "<div>\n",
       "<style scoped>\n",
       "    .dataframe tbody tr th:only-of-type {\n",
       "        vertical-align: middle;\n",
       "    }\n",
       "\n",
       "    .dataframe tbody tr th {\n",
       "        vertical-align: top;\n",
       "    }\n",
       "\n",
       "    .dataframe thead th {\n",
       "        text-align: right;\n",
       "    }\n",
       "</style>\n",
       "<table border=\"1\" class=\"dataframe\">\n",
       "  <thead>\n",
       "    <tr style=\"text-align: right;\">\n",
       "      <th></th>\n",
       "      <th>Call ID</th>\n",
       "      <th>Query Type</th>\n",
       "      <th>IVR time</th>\n",
       "      <th>Queue time</th>\n",
       "      <th>Agent time</th>\n",
       "      <th>Satisfaction</th>\n",
       "    </tr>\n",
       "  </thead>\n",
       "  <tbody>\n",
       "    <tr>\n",
       "      <th>count</th>\n",
       "      <td>46380.000000</td>\n",
       "      <td>46380.000000</td>\n",
       "      <td>46380.000000</td>\n",
       "      <td>46380.000000</td>\n",
       "      <td>46380.000000</td>\n",
       "      <td>46380.000000</td>\n",
       "    </tr>\n",
       "    <tr>\n",
       "      <th>mean</th>\n",
       "      <td>114745.675679</td>\n",
       "      <td>1.633204</td>\n",
       "      <td>9.441548</td>\n",
       "      <td>55.152436</td>\n",
       "      <td>175.716235</td>\n",
       "      <td>3.011276</td>\n",
       "    </tr>\n",
       "    <tr>\n",
       "      <th>std</th>\n",
       "      <td>26846.102127</td>\n",
       "      <td>1.148817</td>\n",
       "      <td>27.508372</td>\n",
       "      <td>96.973548</td>\n",
       "      <td>255.112883</td>\n",
       "      <td>1.458860</td>\n",
       "    </tr>\n",
       "    <tr>\n",
       "      <th>min</th>\n",
       "      <td>68269.000000</td>\n",
       "      <td>1.000000</td>\n",
       "      <td>-362.000000</td>\n",
       "      <td>0.000000</td>\n",
       "      <td>0.000000</td>\n",
       "      <td>0.000000</td>\n",
       "    </tr>\n",
       "    <tr>\n",
       "      <th>25%</th>\n",
       "      <td>91514.750000</td>\n",
       "      <td>1.000000</td>\n",
       "      <td>6.000000</td>\n",
       "      <td>0.000000</td>\n",
       "      <td>52.000000</td>\n",
       "      <td>2.000000</td>\n",
       "    </tr>\n",
       "    <tr>\n",
       "      <th>50%</th>\n",
       "      <td>114652.500000</td>\n",
       "      <td>1.000000</td>\n",
       "      <td>9.000000</td>\n",
       "      <td>8.000000</td>\n",
       "      <td>107.000000</td>\n",
       "      <td>3.000000</td>\n",
       "    </tr>\n",
       "    <tr>\n",
       "      <th>75%</th>\n",
       "      <td>138034.750000</td>\n",
       "      <td>2.000000</td>\n",
       "      <td>10.000000</td>\n",
       "      <td>71.000000</td>\n",
       "      <td>211.000000</td>\n",
       "      <td>4.000000</td>\n",
       "    </tr>\n",
       "    <tr>\n",
       "      <th>max</th>\n",
       "      <td>161286.000000</td>\n",
       "      <td>5.000000</td>\n",
       "      <td>4832.000000</td>\n",
       "      <td>2405.000000</td>\n",
       "      <td>12510.000000</td>\n",
       "      <td>5.000000</td>\n",
       "    </tr>\n",
       "  </tbody>\n",
       "</table>\n",
       "</div>"
      ],
      "text/plain": [
       "             Call ID    Query Type      IVR time    Queue time    Agent time  \\\n",
       "count   46380.000000  46380.000000  46380.000000  46380.000000  46380.000000   \n",
       "mean   114745.675679      1.633204      9.441548     55.152436    175.716235   \n",
       "std     26846.102127      1.148817     27.508372     96.973548    255.112883   \n",
       "min     68269.000000      1.000000   -362.000000      0.000000      0.000000   \n",
       "25%     91514.750000      1.000000      6.000000      0.000000     52.000000   \n",
       "50%    114652.500000      1.000000      9.000000      8.000000    107.000000   \n",
       "75%    138034.750000      2.000000     10.000000     71.000000    211.000000   \n",
       "max    161286.000000      5.000000   4832.000000   2405.000000  12510.000000   \n",
       "\n",
       "       Satisfaction  \n",
       "count  46380.000000  \n",
       "mean       3.011276  \n",
       "std        1.458860  \n",
       "min        0.000000  \n",
       "25%        2.000000  \n",
       "50%        3.000000  \n",
       "75%        4.000000  \n",
       "max        5.000000  "
      ]
     },
     "execution_count": 7,
     "metadata": {},
     "output_type": "execute_result"
    }
   ],
   "source": [
    "# Get an overview about the data \n",
    "# Note describe function drops the non numeric values so aware\n",
    "callcenter.describe()"
   ]
  },
  {
   "cell_type": "markdown",
   "metadata": {},
   "source": [
    "Explore some variables to see if we keep it or not"
   ]
  },
  {
   "cell_type": "code",
   "execution_count": 8,
   "metadata": {},
   "outputs": [
    {
     "data": {
      "text/plain": [
       "0     CRN287429\n",
       "1           NaN\n",
       "2     CRN446217\n",
       "3     CRN297556\n",
       "4     CRN553214\n",
       "5     CRN044201\n",
       "6     CRN244721\n",
       "7     CRN140246\n",
       "8     CRN802435\n",
       "9     CRN207034\n",
       "10    CRN006100\n",
       "11          NaN\n",
       "12    CRN580146\n",
       "13    CRN240575\n",
       "14    CRN443474\n",
       "Name: Customer ID, dtype: object"
      ]
     },
     "execution_count": 8,
     "metadata": {},
     "output_type": "execute_result"
    }
   ],
   "source": [
    "callcenter[\"Customer ID\"][0:15]"
   ]
  },
  {
   "cell_type": "code",
   "execution_count": 9,
   "metadata": {},
   "outputs": [
    {
     "data": {
      "text/plain": [
       "count         38714\n",
       "unique        10551\n",
       "top       CRN579256\n",
       "freq            240\n",
       "Name: Customer ID, dtype: object"
      ]
     },
     "execution_count": 9,
     "metadata": {},
     "output_type": "execute_result"
    }
   ],
   "source": [
    "callcenter[\"Customer ID\"].describe()"
   ]
  },
  {
   "cell_type": "code",
   "execution_count": 10,
   "metadata": {},
   "outputs": [],
   "source": [
    "# Customer ID doesn't provide us with any info so we gonna remove it "
   ]
  },
  {
   "cell_type": "code",
   "execution_count": 11,
   "metadata": {},
   "outputs": [],
   "source": [
    "del callcenter[\"Customer ID\"]"
   ]
  },
  {
   "cell_type": "code",
   "execution_count": 12,
   "metadata": {},
   "outputs": [
    {
     "data": {
      "text/html": [
       "<div>\n",
       "<style scoped>\n",
       "    .dataframe tbody tr th:only-of-type {\n",
       "        vertical-align: middle;\n",
       "    }\n",
       "\n",
       "    .dataframe tbody tr th {\n",
       "        vertical-align: top;\n",
       "    }\n",
       "\n",
       "    .dataframe thead th {\n",
       "        text-align: right;\n",
       "    }\n",
       "</style>\n",
       "<table border=\"1\" class=\"dataframe\">\n",
       "  <thead>\n",
       "    <tr style=\"text-align: right;\">\n",
       "      <th></th>\n",
       "      <th>Call ID</th>\n",
       "      <th>Call Date</th>\n",
       "      <th>Priority</th>\n",
       "      <th>Query Type</th>\n",
       "      <th>IVR start</th>\n",
       "      <th>IVR fin</th>\n",
       "      <th>IVR time</th>\n",
       "      <th>Queue start</th>\n",
       "      <th>Queue fin</th>\n",
       "      <th>Queue time</th>\n",
       "      <th>Agent?</th>\n",
       "      <th>Agent start</th>\n",
       "      <th>Agent end</th>\n",
       "      <th>Agent time</th>\n",
       "      <th>Agent Name</th>\n",
       "      <th>Satisfaction</th>\n",
       "      <th>Resolved</th>\n",
       "    </tr>\n",
       "  </thead>\n",
       "  <tbody>\n",
       "    <tr>\n",
       "      <th>0</th>\n",
       "      <td>68269.0</td>\n",
       "      <td>7/1/2017</td>\n",
       "      <td>Medium</td>\n",
       "      <td>3.0</td>\n",
       "      <td>6:56:28</td>\n",
       "      <td>6:56:30</td>\n",
       "      <td>2.0</td>\n",
       "      <td>0:00:00</td>\n",
       "      <td>0:00:00</td>\n",
       "      <td>0.0</td>\n",
       "      <td>YES</td>\n",
       "      <td>6:56:29</td>\n",
       "      <td>6:56:35</td>\n",
       "      <td>6.0</td>\n",
       "      <td>Stevens</td>\n",
       "      <td>3.0</td>\n",
       "      <td>Yes</td>\n",
       "    </tr>\n",
       "    <tr>\n",
       "      <th>1</th>\n",
       "      <td>68272.0</td>\n",
       "      <td>7/1/2017</td>\n",
       "      <td>Low</td>\n",
       "      <td>4.0</td>\n",
       "      <td>7:54:35</td>\n",
       "      <td>7:54:49</td>\n",
       "      <td>14.0</td>\n",
       "      <td>0:00:00</td>\n",
       "      <td>0:00:00</td>\n",
       "      <td>0.0</td>\n",
       "      <td>YES</td>\n",
       "      <td>7:54:50</td>\n",
       "      <td>7:54:54</td>\n",
       "      <td>4.0</td>\n",
       "      <td>Adams</td>\n",
       "      <td>4.0</td>\n",
       "      <td>Yes</td>\n",
       "    </tr>\n",
       "    <tr>\n",
       "      <th>2</th>\n",
       "      <td>68273.0</td>\n",
       "      <td>7/1/2017</td>\n",
       "      <td>Low</td>\n",
       "      <td>1.0</td>\n",
       "      <td>7:56:33</td>\n",
       "      <td>7:56:42</td>\n",
       "      <td>9.0</td>\n",
       "      <td>0:00:00</td>\n",
       "      <td>0:00:00</td>\n",
       "      <td>0.0</td>\n",
       "      <td>YES</td>\n",
       "      <td>7:56:41</td>\n",
       "      <td>7:57:54</td>\n",
       "      <td>73.0</td>\n",
       "      <td>Berkhart</td>\n",
       "      <td>4.0</td>\n",
       "      <td>Yes</td>\n",
       "    </tr>\n",
       "    <tr>\n",
       "      <th>3</th>\n",
       "      <td>68276.0</td>\n",
       "      <td>7/1/2017</td>\n",
       "      <td>Low</td>\n",
       "      <td>1.0</td>\n",
       "      <td>8:00:53</td>\n",
       "      <td>8:01:03</td>\n",
       "      <td>10.0</td>\n",
       "      <td>0:00:00</td>\n",
       "      <td>0:00:00</td>\n",
       "      <td>0.0</td>\n",
       "      <td>YES</td>\n",
       "      <td>8:01:02</td>\n",
       "      <td>8:02:58</td>\n",
       "      <td>116.0</td>\n",
       "      <td>Adams</td>\n",
       "      <td>4.0</td>\n",
       "      <td>Yes</td>\n",
       "    </tr>\n",
       "    <tr>\n",
       "      <th>4</th>\n",
       "      <td>68278.0</td>\n",
       "      <td>7/1/2017</td>\n",
       "      <td>Low</td>\n",
       "      <td>1.0</td>\n",
       "      <td>8:03:18</td>\n",
       "      <td>8:03:27</td>\n",
       "      <td>9.0</td>\n",
       "      <td>0:00:00</td>\n",
       "      <td>0:00:00</td>\n",
       "      <td>0.0</td>\n",
       "      <td>YES</td>\n",
       "      <td>8:03:26</td>\n",
       "      <td>8:09:46</td>\n",
       "      <td>380.0</td>\n",
       "      <td>Berkhart</td>\n",
       "      <td>4.0</td>\n",
       "      <td>Yes</td>\n",
       "    </tr>\n",
       "  </tbody>\n",
       "</table>\n",
       "</div>"
      ],
      "text/plain": [
       "   Call ID Call Date Priority  Query Type IVR start  IVR fin  IVR time  \\\n",
       "0  68269.0  7/1/2017   Medium         3.0   6:56:28  6:56:30       2.0   \n",
       "1  68272.0  7/1/2017      Low         4.0   7:54:35  7:54:49      14.0   \n",
       "2  68273.0  7/1/2017      Low         1.0   7:56:33  7:56:42       9.0   \n",
       "3  68276.0  7/1/2017      Low         1.0   8:00:53  8:01:03      10.0   \n",
       "4  68278.0  7/1/2017      Low         1.0   8:03:18  8:03:27       9.0   \n",
       "\n",
       "  Queue start Queue fin  Queue time Agent? Agent start Agent end  Agent time  \\\n",
       "0     0:00:00   0:00:00         0.0    YES     6:56:29   6:56:35         6.0   \n",
       "1     0:00:00   0:00:00         0.0    YES     7:54:50   7:54:54         4.0   \n",
       "2     0:00:00   0:00:00         0.0    YES     7:56:41   7:57:54        73.0   \n",
       "3     0:00:00   0:00:00         0.0    YES     8:01:02   8:02:58       116.0   \n",
       "4     0:00:00   0:00:00         0.0    YES     8:03:26   8:09:46       380.0   \n",
       "\n",
       "  Agent Name  Satisfaction Resolved  \n",
       "0    Stevens           3.0      Yes  \n",
       "1      Adams           4.0      Yes  \n",
       "2   Berkhart           4.0      Yes  \n",
       "3      Adams           4.0      Yes  \n",
       "4   Berkhart           4.0      Yes  "
      ]
     },
     "execution_count": 12,
     "metadata": {},
     "output_type": "execute_result"
    }
   ],
   "source": [
    "#show Data after removing the Customer ID\n",
    "callcenter.head(5)"
   ]
  },
  {
   "cell_type": "markdown",
   "metadata": {},
   "source": [
    "# Now We will do some of transformation on variables"
   ]
  },
  {
   "cell_type": "code",
   "execution_count": 13,
   "metadata": {},
   "outputs": [],
   "source": [
    "# Call ID it int not float so we gonna change it into int \n",
    "new_datatype= callcenter[\"Call ID\"].astype(\"Int64\")\n",
    "callcenter[\"Call ID\"] = new_datatype"
   ]
  },
  {
   "cell_type": "code",
   "execution_count": 14,
   "metadata": {},
   "outputs": [],
   "source": [
    "# priority column is category so we gonna change it into Categorical\n",
    "new_category= pd.Categorical(callcenter[\"Priority\"], ordered=True)\n",
    "new_category= new_category.rename_categories(['High','Medium','Low'])\n",
    "callcenter[\"Priority\"]= new_category"
   ]
  },
  {
   "cell_type": "code",
   "execution_count": 15,
   "metadata": {},
   "outputs": [
    {
     "data": {
      "text/plain": [
       "count      46380\n",
       "unique         3\n",
       "top       Medium\n",
       "freq       25709\n",
       "Name: Priority, dtype: object"
      ]
     },
     "execution_count": 15,
     "metadata": {},
     "output_type": "execute_result"
    }
   ],
   "source": [
    "callcenter[\"Priority\"].describe()"
   ]
  },
  {
   "cell_type": "code",
   "execution_count": 16,
   "metadata": {},
   "outputs": [
    {
     "data": {
      "text/plain": [
       "0        Low\n",
       "1     Medium\n",
       "2     Medium\n",
       "3     Medium\n",
       "4     Medium\n",
       "5     Medium\n",
       "6     Medium\n",
       "7     Medium\n",
       "8     Medium\n",
       "9     Medium\n",
       "10      High\n",
       "11       Low\n",
       "12       Low\n",
       "13    Medium\n",
       "14      High\n",
       "Name: Priority, dtype: category\n",
       "Categories (3, object): ['High' < 'Medium' < 'Low']"
      ]
     },
     "execution_count": 16,
     "metadata": {},
     "output_type": "execute_result"
    }
   ],
   "source": [
    "callcenter[\"Priority\"][0:15]"
   ]
  },
  {
   "cell_type": "code",
   "execution_count": 17,
   "metadata": {},
   "outputs": [],
   "source": [
    "# change Call Date into date \n",
    "new_type = pd.to_datetime(callcenter[\"Call Date\"])\n",
    "callcenter[\"Call Date\"]= new_type"
   ]
  },
  {
   "cell_type": "code",
   "execution_count": 18,
   "metadata": {},
   "outputs": [
    {
     "ename": "IntCastingNaNError",
     "evalue": "Cannot convert non-finite values (NA or inf) to integer",
     "output_type": "error",
     "traceback": [
      "\u001b[1;31m---------------------------------------------------------------------------\u001b[0m",
      "\u001b[1;31mIntCastingNaNError\u001b[0m                        Traceback (most recent call last)",
      "Cell \u001b[1;32mIn[18], line 2\u001b[0m\n\u001b[0;32m      1\u001b[0m \u001b[38;5;66;03m#change query type column into int64\u001b[39;00m\n\u001b[1;32m----> 2\u001b[0m query_new\u001b[38;5;241m=\u001b[39m \u001b[43mcallcenter\u001b[49m\u001b[43m[\u001b[49m\u001b[38;5;124;43m\"\u001b[39;49m\u001b[38;5;124;43mQuery Type\u001b[39;49m\u001b[38;5;124;43m\"\u001b[39;49m\u001b[43m]\u001b[49m\u001b[38;5;241;43m.\u001b[39;49m\u001b[43mastype\u001b[49m\u001b[43m(\u001b[49m\u001b[38;5;124;43m\"\u001b[39;49m\u001b[38;5;124;43mint32\u001b[39;49m\u001b[38;5;124;43m\"\u001b[39;49m\u001b[43m)\u001b[49m\n\u001b[0;32m      3\u001b[0m callcenter[\u001b[38;5;124m\"\u001b[39m\u001b[38;5;124mQuery Type\u001b[39m\u001b[38;5;124m\"\u001b[39m]\u001b[38;5;241m=\u001b[39m query_new\n",
      "File \u001b[1;32m~\\AppData\\Local\\Packages\\PythonSoftwareFoundation.Python.3.12_qbz5n2kfra8p0\\LocalCache\\local-packages\\Python312\\site-packages\\pandas\\core\\generic.py:6640\u001b[0m, in \u001b[0;36mNDFrame.astype\u001b[1;34m(self, dtype, copy, errors)\u001b[0m\n\u001b[0;32m   6634\u001b[0m     results \u001b[38;5;241m=\u001b[39m [\n\u001b[0;32m   6635\u001b[0m         ser\u001b[38;5;241m.\u001b[39mastype(dtype, copy\u001b[38;5;241m=\u001b[39mcopy, errors\u001b[38;5;241m=\u001b[39merrors) \u001b[38;5;28;01mfor\u001b[39;00m _, ser \u001b[38;5;129;01min\u001b[39;00m \u001b[38;5;28mself\u001b[39m\u001b[38;5;241m.\u001b[39mitems()\n\u001b[0;32m   6636\u001b[0m     ]\n\u001b[0;32m   6638\u001b[0m \u001b[38;5;28;01melse\u001b[39;00m:\n\u001b[0;32m   6639\u001b[0m     \u001b[38;5;66;03m# else, only a single dtype is given\u001b[39;00m\n\u001b[1;32m-> 6640\u001b[0m     new_data \u001b[38;5;241m=\u001b[39m \u001b[38;5;28;43mself\u001b[39;49m\u001b[38;5;241;43m.\u001b[39;49m\u001b[43m_mgr\u001b[49m\u001b[38;5;241;43m.\u001b[39;49m\u001b[43mastype\u001b[49m\u001b[43m(\u001b[49m\u001b[43mdtype\u001b[49m\u001b[38;5;241;43m=\u001b[39;49m\u001b[43mdtype\u001b[49m\u001b[43m,\u001b[49m\u001b[43m \u001b[49m\u001b[43mcopy\u001b[49m\u001b[38;5;241;43m=\u001b[39;49m\u001b[43mcopy\u001b[49m\u001b[43m,\u001b[49m\u001b[43m \u001b[49m\u001b[43merrors\u001b[49m\u001b[38;5;241;43m=\u001b[39;49m\u001b[43merrors\u001b[49m\u001b[43m)\u001b[49m\n\u001b[0;32m   6641\u001b[0m     res \u001b[38;5;241m=\u001b[39m \u001b[38;5;28mself\u001b[39m\u001b[38;5;241m.\u001b[39m_constructor_from_mgr(new_data, axes\u001b[38;5;241m=\u001b[39mnew_data\u001b[38;5;241m.\u001b[39maxes)\n\u001b[0;32m   6642\u001b[0m     \u001b[38;5;28;01mreturn\u001b[39;00m res\u001b[38;5;241m.\u001b[39m__finalize__(\u001b[38;5;28mself\u001b[39m, method\u001b[38;5;241m=\u001b[39m\u001b[38;5;124m\"\u001b[39m\u001b[38;5;124mastype\u001b[39m\u001b[38;5;124m\"\u001b[39m)\n",
      "File \u001b[1;32m~\\AppData\\Local\\Packages\\PythonSoftwareFoundation.Python.3.12_qbz5n2kfra8p0\\LocalCache\\local-packages\\Python312\\site-packages\\pandas\\core\\internals\\managers.py:430\u001b[0m, in \u001b[0;36mBaseBlockManager.astype\u001b[1;34m(self, dtype, copy, errors)\u001b[0m\n\u001b[0;32m    427\u001b[0m \u001b[38;5;28;01melif\u001b[39;00m using_copy_on_write():\n\u001b[0;32m    428\u001b[0m     copy \u001b[38;5;241m=\u001b[39m \u001b[38;5;28;01mFalse\u001b[39;00m\n\u001b[1;32m--> 430\u001b[0m \u001b[38;5;28;01mreturn\u001b[39;00m \u001b[38;5;28;43mself\u001b[39;49m\u001b[38;5;241;43m.\u001b[39;49m\u001b[43mapply\u001b[49m\u001b[43m(\u001b[49m\n\u001b[0;32m    431\u001b[0m \u001b[43m    \u001b[49m\u001b[38;5;124;43m\"\u001b[39;49m\u001b[38;5;124;43mastype\u001b[39;49m\u001b[38;5;124;43m\"\u001b[39;49m\u001b[43m,\u001b[49m\n\u001b[0;32m    432\u001b[0m \u001b[43m    \u001b[49m\u001b[43mdtype\u001b[49m\u001b[38;5;241;43m=\u001b[39;49m\u001b[43mdtype\u001b[49m\u001b[43m,\u001b[49m\n\u001b[0;32m    433\u001b[0m \u001b[43m    \u001b[49m\u001b[43mcopy\u001b[49m\u001b[38;5;241;43m=\u001b[39;49m\u001b[43mcopy\u001b[49m\u001b[43m,\u001b[49m\n\u001b[0;32m    434\u001b[0m \u001b[43m    \u001b[49m\u001b[43merrors\u001b[49m\u001b[38;5;241;43m=\u001b[39;49m\u001b[43merrors\u001b[49m\u001b[43m,\u001b[49m\n\u001b[0;32m    435\u001b[0m \u001b[43m    \u001b[49m\u001b[43musing_cow\u001b[49m\u001b[38;5;241;43m=\u001b[39;49m\u001b[43musing_copy_on_write\u001b[49m\u001b[43m(\u001b[49m\u001b[43m)\u001b[49m\u001b[43m,\u001b[49m\n\u001b[0;32m    436\u001b[0m \u001b[43m\u001b[49m\u001b[43m)\u001b[49m\n",
      "File \u001b[1;32m~\\AppData\\Local\\Packages\\PythonSoftwareFoundation.Python.3.12_qbz5n2kfra8p0\\LocalCache\\local-packages\\Python312\\site-packages\\pandas\\core\\internals\\managers.py:363\u001b[0m, in \u001b[0;36mBaseBlockManager.apply\u001b[1;34m(self, f, align_keys, **kwargs)\u001b[0m\n\u001b[0;32m    361\u001b[0m         applied \u001b[38;5;241m=\u001b[39m b\u001b[38;5;241m.\u001b[39mapply(f, \u001b[38;5;241m*\u001b[39m\u001b[38;5;241m*\u001b[39mkwargs)\n\u001b[0;32m    362\u001b[0m     \u001b[38;5;28;01melse\u001b[39;00m:\n\u001b[1;32m--> 363\u001b[0m         applied \u001b[38;5;241m=\u001b[39m \u001b[38;5;28;43mgetattr\u001b[39;49m\u001b[43m(\u001b[49m\u001b[43mb\u001b[49m\u001b[43m,\u001b[49m\u001b[43m \u001b[49m\u001b[43mf\u001b[49m\u001b[43m)\u001b[49m\u001b[43m(\u001b[49m\u001b[38;5;241;43m*\u001b[39;49m\u001b[38;5;241;43m*\u001b[39;49m\u001b[43mkwargs\u001b[49m\u001b[43m)\u001b[49m\n\u001b[0;32m    364\u001b[0m     result_blocks \u001b[38;5;241m=\u001b[39m extend_blocks(applied, result_blocks)\n\u001b[0;32m    366\u001b[0m out \u001b[38;5;241m=\u001b[39m \u001b[38;5;28mtype\u001b[39m(\u001b[38;5;28mself\u001b[39m)\u001b[38;5;241m.\u001b[39mfrom_blocks(result_blocks, \u001b[38;5;28mself\u001b[39m\u001b[38;5;241m.\u001b[39maxes)\n",
      "File \u001b[1;32m~\\AppData\\Local\\Packages\\PythonSoftwareFoundation.Python.3.12_qbz5n2kfra8p0\\LocalCache\\local-packages\\Python312\\site-packages\\pandas\\core\\internals\\blocks.py:758\u001b[0m, in \u001b[0;36mBlock.astype\u001b[1;34m(self, dtype, copy, errors, using_cow, squeeze)\u001b[0m\n\u001b[0;32m    755\u001b[0m         \u001b[38;5;28;01mraise\u001b[39;00m \u001b[38;5;167;01mValueError\u001b[39;00m(\u001b[38;5;124m\"\u001b[39m\u001b[38;5;124mCan not squeeze with more than one column.\u001b[39m\u001b[38;5;124m\"\u001b[39m)\n\u001b[0;32m    756\u001b[0m     values \u001b[38;5;241m=\u001b[39m values[\u001b[38;5;241m0\u001b[39m, :]  \u001b[38;5;66;03m# type: ignore[call-overload]\u001b[39;00m\n\u001b[1;32m--> 758\u001b[0m new_values \u001b[38;5;241m=\u001b[39m \u001b[43mastype_array_safe\u001b[49m\u001b[43m(\u001b[49m\u001b[43mvalues\u001b[49m\u001b[43m,\u001b[49m\u001b[43m \u001b[49m\u001b[43mdtype\u001b[49m\u001b[43m,\u001b[49m\u001b[43m \u001b[49m\u001b[43mcopy\u001b[49m\u001b[38;5;241;43m=\u001b[39;49m\u001b[43mcopy\u001b[49m\u001b[43m,\u001b[49m\u001b[43m \u001b[49m\u001b[43merrors\u001b[49m\u001b[38;5;241;43m=\u001b[39;49m\u001b[43merrors\u001b[49m\u001b[43m)\u001b[49m\n\u001b[0;32m    760\u001b[0m new_values \u001b[38;5;241m=\u001b[39m maybe_coerce_values(new_values)\n\u001b[0;32m    762\u001b[0m refs \u001b[38;5;241m=\u001b[39m \u001b[38;5;28;01mNone\u001b[39;00m\n",
      "File \u001b[1;32m~\\AppData\\Local\\Packages\\PythonSoftwareFoundation.Python.3.12_qbz5n2kfra8p0\\LocalCache\\local-packages\\Python312\\site-packages\\pandas\\core\\dtypes\\astype.py:237\u001b[0m, in \u001b[0;36mastype_array_safe\u001b[1;34m(values, dtype, copy, errors)\u001b[0m\n\u001b[0;32m    234\u001b[0m     dtype \u001b[38;5;241m=\u001b[39m dtype\u001b[38;5;241m.\u001b[39mnumpy_dtype\n\u001b[0;32m    236\u001b[0m \u001b[38;5;28;01mtry\u001b[39;00m:\n\u001b[1;32m--> 237\u001b[0m     new_values \u001b[38;5;241m=\u001b[39m \u001b[43mastype_array\u001b[49m\u001b[43m(\u001b[49m\u001b[43mvalues\u001b[49m\u001b[43m,\u001b[49m\u001b[43m \u001b[49m\u001b[43mdtype\u001b[49m\u001b[43m,\u001b[49m\u001b[43m \u001b[49m\u001b[43mcopy\u001b[49m\u001b[38;5;241;43m=\u001b[39;49m\u001b[43mcopy\u001b[49m\u001b[43m)\u001b[49m\n\u001b[0;32m    238\u001b[0m \u001b[38;5;28;01mexcept\u001b[39;00m (\u001b[38;5;167;01mValueError\u001b[39;00m, \u001b[38;5;167;01mTypeError\u001b[39;00m):\n\u001b[0;32m    239\u001b[0m     \u001b[38;5;66;03m# e.g. _astype_nansafe can fail on object-dtype of strings\u001b[39;00m\n\u001b[0;32m    240\u001b[0m     \u001b[38;5;66;03m#  trying to convert to float\u001b[39;00m\n\u001b[0;32m    241\u001b[0m     \u001b[38;5;28;01mif\u001b[39;00m errors \u001b[38;5;241m==\u001b[39m \u001b[38;5;124m\"\u001b[39m\u001b[38;5;124mignore\u001b[39m\u001b[38;5;124m\"\u001b[39m:\n",
      "File \u001b[1;32m~\\AppData\\Local\\Packages\\PythonSoftwareFoundation.Python.3.12_qbz5n2kfra8p0\\LocalCache\\local-packages\\Python312\\site-packages\\pandas\\core\\dtypes\\astype.py:182\u001b[0m, in \u001b[0;36mastype_array\u001b[1;34m(values, dtype, copy)\u001b[0m\n\u001b[0;32m    179\u001b[0m     values \u001b[38;5;241m=\u001b[39m values\u001b[38;5;241m.\u001b[39mastype(dtype, copy\u001b[38;5;241m=\u001b[39mcopy)\n\u001b[0;32m    181\u001b[0m \u001b[38;5;28;01melse\u001b[39;00m:\n\u001b[1;32m--> 182\u001b[0m     values \u001b[38;5;241m=\u001b[39m \u001b[43m_astype_nansafe\u001b[49m\u001b[43m(\u001b[49m\u001b[43mvalues\u001b[49m\u001b[43m,\u001b[49m\u001b[43m \u001b[49m\u001b[43mdtype\u001b[49m\u001b[43m,\u001b[49m\u001b[43m \u001b[49m\u001b[43mcopy\u001b[49m\u001b[38;5;241;43m=\u001b[39;49m\u001b[43mcopy\u001b[49m\u001b[43m)\u001b[49m\n\u001b[0;32m    184\u001b[0m \u001b[38;5;66;03m# in pandas we don't store numpy str dtypes, so convert to object\u001b[39;00m\n\u001b[0;32m    185\u001b[0m \u001b[38;5;28;01mif\u001b[39;00m \u001b[38;5;28misinstance\u001b[39m(dtype, np\u001b[38;5;241m.\u001b[39mdtype) \u001b[38;5;129;01mand\u001b[39;00m \u001b[38;5;28missubclass\u001b[39m(values\u001b[38;5;241m.\u001b[39mdtype\u001b[38;5;241m.\u001b[39mtype, \u001b[38;5;28mstr\u001b[39m):\n",
      "File \u001b[1;32m~\\AppData\\Local\\Packages\\PythonSoftwareFoundation.Python.3.12_qbz5n2kfra8p0\\LocalCache\\local-packages\\Python312\\site-packages\\pandas\\core\\dtypes\\astype.py:101\u001b[0m, in \u001b[0;36m_astype_nansafe\u001b[1;34m(arr, dtype, copy, skipna)\u001b[0m\n\u001b[0;32m     96\u001b[0m     \u001b[38;5;28;01mreturn\u001b[39;00m lib\u001b[38;5;241m.\u001b[39mensure_string_array(\n\u001b[0;32m     97\u001b[0m         arr, skipna\u001b[38;5;241m=\u001b[39mskipna, convert_na_value\u001b[38;5;241m=\u001b[39m\u001b[38;5;28;01mFalse\u001b[39;00m\n\u001b[0;32m     98\u001b[0m     )\u001b[38;5;241m.\u001b[39mreshape(shape)\n\u001b[0;32m    100\u001b[0m \u001b[38;5;28;01melif\u001b[39;00m np\u001b[38;5;241m.\u001b[39missubdtype(arr\u001b[38;5;241m.\u001b[39mdtype, np\u001b[38;5;241m.\u001b[39mfloating) \u001b[38;5;129;01mand\u001b[39;00m dtype\u001b[38;5;241m.\u001b[39mkind \u001b[38;5;129;01min\u001b[39;00m \u001b[38;5;124m\"\u001b[39m\u001b[38;5;124miu\u001b[39m\u001b[38;5;124m\"\u001b[39m:\n\u001b[1;32m--> 101\u001b[0m     \u001b[38;5;28;01mreturn\u001b[39;00m \u001b[43m_astype_float_to_int_nansafe\u001b[49m\u001b[43m(\u001b[49m\u001b[43marr\u001b[49m\u001b[43m,\u001b[49m\u001b[43m \u001b[49m\u001b[43mdtype\u001b[49m\u001b[43m,\u001b[49m\u001b[43m \u001b[49m\u001b[43mcopy\u001b[49m\u001b[43m)\u001b[49m\n\u001b[0;32m    103\u001b[0m \u001b[38;5;28;01melif\u001b[39;00m arr\u001b[38;5;241m.\u001b[39mdtype \u001b[38;5;241m==\u001b[39m \u001b[38;5;28mobject\u001b[39m:\n\u001b[0;32m    104\u001b[0m     \u001b[38;5;66;03m# if we have a datetime/timedelta array of objects\u001b[39;00m\n\u001b[0;32m    105\u001b[0m     \u001b[38;5;66;03m# then coerce to datetime64[ns] and use DatetimeArray.astype\u001b[39;00m\n\u001b[0;32m    107\u001b[0m     \u001b[38;5;28;01mif\u001b[39;00m lib\u001b[38;5;241m.\u001b[39mis_np_dtype(dtype, \u001b[38;5;124m\"\u001b[39m\u001b[38;5;124mM\u001b[39m\u001b[38;5;124m\"\u001b[39m):\n",
      "File \u001b[1;32m~\\AppData\\Local\\Packages\\PythonSoftwareFoundation.Python.3.12_qbz5n2kfra8p0\\LocalCache\\local-packages\\Python312\\site-packages\\pandas\\core\\dtypes\\astype.py:145\u001b[0m, in \u001b[0;36m_astype_float_to_int_nansafe\u001b[1;34m(values, dtype, copy)\u001b[0m\n\u001b[0;32m    141\u001b[0m \u001b[38;5;250m\u001b[39m\u001b[38;5;124;03m\"\"\"\u001b[39;00m\n\u001b[0;32m    142\u001b[0m \u001b[38;5;124;03mastype with a check preventing converting NaN to an meaningless integer value.\u001b[39;00m\n\u001b[0;32m    143\u001b[0m \u001b[38;5;124;03m\"\"\"\u001b[39;00m\n\u001b[0;32m    144\u001b[0m \u001b[38;5;28;01mif\u001b[39;00m \u001b[38;5;129;01mnot\u001b[39;00m np\u001b[38;5;241m.\u001b[39misfinite(values)\u001b[38;5;241m.\u001b[39mall():\n\u001b[1;32m--> 145\u001b[0m     \u001b[38;5;28;01mraise\u001b[39;00m IntCastingNaNError(\n\u001b[0;32m    146\u001b[0m         \u001b[38;5;124m\"\u001b[39m\u001b[38;5;124mCannot convert non-finite values (NA or inf) to integer\u001b[39m\u001b[38;5;124m\"\u001b[39m\n\u001b[0;32m    147\u001b[0m     )\n\u001b[0;32m    148\u001b[0m \u001b[38;5;28;01mif\u001b[39;00m dtype\u001b[38;5;241m.\u001b[39mkind \u001b[38;5;241m==\u001b[39m \u001b[38;5;124m\"\u001b[39m\u001b[38;5;124mu\u001b[39m\u001b[38;5;124m\"\u001b[39m:\n\u001b[0;32m    149\u001b[0m     \u001b[38;5;66;03m# GH#45151\u001b[39;00m\n\u001b[0;32m    150\u001b[0m     \u001b[38;5;28;01mif\u001b[39;00m \u001b[38;5;129;01mnot\u001b[39;00m (values \u001b[38;5;241m>\u001b[39m\u001b[38;5;241m=\u001b[39m \u001b[38;5;241m0\u001b[39m)\u001b[38;5;241m.\u001b[39mall():\n",
      "\u001b[1;31mIntCastingNaNError\u001b[0m: Cannot convert non-finite values (NA or inf) to integer"
     ]
    }
   ],
   "source": [
    "#change query type column into int64\n",
    "query_new= callcenter[\"Query Type\"].astype(\"int32\")\n",
    "callcenter[\"Query Type\"]= query_new"
   ]
  },
  {
   "cell_type": "code",
   "execution_count": null,
   "metadata": {},
   "outputs": [
    {
     "data": {
      "text/plain": [
       "Call ID                  Int64\n",
       "Call Date       datetime64[ns]\n",
       "Priority              category\n",
       "Query Type               Int64\n",
       "IVR start               object\n",
       "IVR fin                 object\n",
       "IVR time               float64\n",
       "Queue start             object\n",
       "Queue fin               object\n",
       "Queue time             float64\n",
       "Agent?                  object\n",
       "Agent start             object\n",
       "Agent end               object\n",
       "Agent time             float64\n",
       "Agent Name              object\n",
       "Satisfaction           float64\n",
       "Resolved                object\n",
       "dtype: object"
      ]
     },
     "execution_count": 68,
     "metadata": {},
     "output_type": "execute_result"
    }
   ],
   "source": [
    "callcenter.dtypes"
   ]
  },
  {
   "cell_type": "code",
   "execution_count": null,
   "metadata": {},
   "outputs": [],
   "source": [
    "# Change Satisfaction data type from float into int32 \n",
    "Satisfaction_new= callcenter[\"Satisfaction\"].astype(\"Int32\")\n",
    "callcenter[\"Satisfaction\"]= Satisfaction_new"
   ]
  },
  {
   "cell_type": "markdown",
   "metadata": {},
   "source": []
  },
  {
   "cell_type": "markdown",
   "metadata": {},
   "source": [
    " Data types before \n",
    "Call ID         float64\n",
    "Call Date        object\n",
    "Customer ID      object\n",
    "Priority         object\n",
    "Query Type      float64\n",
    "IVR start        object\n",
    "IVR fin          object\n",
    "IVR time        float64\n",
    "Queue start      object\n",
    "Queue fin        object\n",
    "Queue time      float64\n",
    "Agent?           object\n",
    "Agent start      object\n",
    "Agent end        object\n",
    "Agent time      float64\n",
    "Agent Name       object\n",
    "Satisfaction    float64\n",
    "Resolved         object\n",
    "dtype: object"
   ]
  },
  {
   "cell_type": "code",
   "execution_count": null,
   "metadata": {},
   "outputs": [
    {
     "data": {
      "text/plain": [
       "Call ID                  Int64\n",
       "Call Date       datetime64[ns]\n",
       "Priority              category\n",
       "Query Type               Int64\n",
       "IVR start               object\n",
       "IVR fin                 object\n",
       "IVR time               float64\n",
       "Queue start             object\n",
       "Queue fin               object\n",
       "Queue time             float64\n",
       "Agent?                  object\n",
       "Agent start             object\n",
       "Agent end               object\n",
       "Agent time             float64\n",
       "Agent Name              object\n",
       "Satisfaction             Int32\n",
       "Resolved                object\n",
       "dtype: object"
      ]
     },
     "execution_count": 70,
     "metadata": {},
     "output_type": "execute_result"
    }
   ],
   "source": [
    "# Data types after \n",
    "callcenter.dtypes"
   ]
  },
  {
   "cell_type": "code",
   "execution_count": null,
   "metadata": {},
   "outputs": [],
   "source": [
    "# when I was nagivating the null values I found that csv file contains addtional empty rows so I used this step to remove them\n",
    "callcenter= callcenter.drop(callcenter.tail(252).index)"
   ]
  },
  {
   "cell_type": "code",
   "execution_count": null,
   "metadata": {},
   "outputs": [
    {
     "data": {
      "text/plain": [
       "Call ID         False\n",
       "Call Date       False\n",
       "Priority        False\n",
       "Query Type      False\n",
       "IVR start       False\n",
       "IVR fin         False\n",
       "IVR time        False\n",
       "Queue start     False\n",
       "Queue fin       False\n",
       "Queue time      False\n",
       "Agent?          False\n",
       "Agent start     False\n",
       "Agent end       False\n",
       "Agent time      False\n",
       "Agent Name       True\n",
       "Satisfaction    False\n",
       "Resolved        False\n",
       "dtype: bool"
      ]
     },
     "execution_count": 72,
     "metadata": {},
     "output_type": "execute_result"
    }
   ],
   "source": [
    "callcenter.isnull().any()"
   ]
  },
  {
   "cell_type": "code",
   "execution_count": null,
   "metadata": {},
   "outputs": [],
   "source": [
    "# In above there are null values in Agent Name column so we gonna nagivate it \n",
    "missing= np.where(callcenter['Agent Name'].isnull()==True)"
   ]
  },
  {
   "cell_type": "code",
   "execution_count": null,
   "metadata": {},
   "outputs": [
    {
     "data": {
      "text/plain": [
       "4174"
      ]
     },
     "execution_count": 74,
     "metadata": {},
     "output_type": "execute_result"
    }
   ],
   "source": [
    "len(missing[0])"
   ]
  },
  {
   "cell_type": "markdown",
   "metadata": {},
   "source": [
    "As you can see in above there are 4174 in Agent Name coulmn but we are not going to remove them, because they mean in our dataset that Agent has abundented the call."
   ]
  },
  {
   "cell_type": "code",
   "execution_count": null,
   "metadata": {},
   "outputs": [
    {
     "data": {
      "text/plain": [
       "False"
      ]
     },
     "execution_count": 75,
     "metadata": {},
     "output_type": "execute_result"
    }
   ],
   "source": [
    "# Check for duplicates\n",
    "callcenter['Call ID'].is_unique"
   ]
  },
  {
   "cell_type": "code",
   "execution_count": 20,
   "metadata": {},
   "outputs": [],
   "source": [
    "# As you can see above there are some duplicates so we gonna nagivate them \n",
    "duplicates= callcenter['Call ID'].duplicated(keep=False)\n"
   ]
  },
  {
   "cell_type": "code",
   "execution_count": null,
   "metadata": {},
   "outputs": [
    {
     "data": {
      "text/html": [
       "<div>\n",
       "<style scoped>\n",
       "    .dataframe tbody tr th:only-of-type {\n",
       "        vertical-align: middle;\n",
       "    }\n",
       "\n",
       "    .dataframe tbody tr th {\n",
       "        vertical-align: top;\n",
       "    }\n",
       "\n",
       "    .dataframe thead th {\n",
       "        text-align: right;\n",
       "    }\n",
       "</style>\n",
       "<table border=\"1\" class=\"dataframe\">\n",
       "  <thead>\n",
       "    <tr style=\"text-align: right;\">\n",
       "      <th></th>\n",
       "      <th>Call ID</th>\n",
       "      <th>Call Date</th>\n",
       "      <th>Priority</th>\n",
       "      <th>Query Type</th>\n",
       "      <th>IVR start</th>\n",
       "      <th>IVR fin</th>\n",
       "      <th>IVR time</th>\n",
       "      <th>Queue start</th>\n",
       "      <th>Queue fin</th>\n",
       "      <th>Queue time</th>\n",
       "      <th>Agent?</th>\n",
       "      <th>Agent start</th>\n",
       "      <th>Agent end</th>\n",
       "      <th>Agent time</th>\n",
       "      <th>Agent Name</th>\n",
       "      <th>Satisfaction</th>\n",
       "      <th>Resolved</th>\n",
       "    </tr>\n",
       "  </thead>\n",
       "  <tbody>\n",
       "    <tr>\n",
       "      <th>10093</th>\n",
       "      <td>88498</td>\n",
       "      <td>2017-08-08</td>\n",
       "      <td>Medium</td>\n",
       "      <td>4</td>\n",
       "      <td>16:05:02</td>\n",
       "      <td>16:05:12</td>\n",
       "      <td>10.0</td>\n",
       "      <td>16:05:12</td>\n",
       "      <td>16:05:38</td>\n",
       "      <td>26.0</td>\n",
       "      <td>YES</td>\n",
       "      <td>16:05:38</td>\n",
       "      <td>16:07:56</td>\n",
       "      <td>138.0</td>\n",
       "      <td>Adams</td>\n",
       "      <td>2</td>\n",
       "      <td>Yes</td>\n",
       "    </tr>\n",
       "    <tr>\n",
       "      <th>46379</th>\n",
       "      <td>88498</td>\n",
       "      <td>2017-12-31</td>\n",
       "      <td>Medium</td>\n",
       "      <td>1</td>\n",
       "      <td>13:57:08</td>\n",
       "      <td>13:57:19</td>\n",
       "      <td>11.0</td>\n",
       "      <td>0:00:00</td>\n",
       "      <td>0:00:00</td>\n",
       "      <td>0.0</td>\n",
       "      <td>YES</td>\n",
       "      <td>13:57:18</td>\n",
       "      <td>13:58:46</td>\n",
       "      <td>88.0</td>\n",
       "      <td>Stevens</td>\n",
       "      <td>3</td>\n",
       "      <td>Yes</td>\n",
       "    </tr>\n",
       "  </tbody>\n",
       "</table>\n",
       "</div>"
      ],
      "text/plain": [
       "       Call ID  Call Date Priority  Query Type IVR start   IVR fin  IVR time  \\\n",
       "10093    88498 2017-08-08   Medium           4  16:05:02  16:05:12      10.0   \n",
       "46379    88498 2017-12-31   Medium           1  13:57:08  13:57:19      11.0   \n",
       "\n",
       "      Queue start Queue fin  Queue time Agent? Agent start Agent end  \\\n",
       "10093    16:05:12  16:05:38        26.0    YES    16:05:38  16:07:56   \n",
       "46379     0:00:00   0:00:00         0.0    YES    13:57:18  13:58:46   \n",
       "\n",
       "       Agent time Agent Name  Satisfaction Resolved  \n",
       "10093       138.0      Adams             2      Yes  \n",
       "46379        88.0    Stevens             3      Yes  "
      ]
     },
     "execution_count": 77,
     "metadata": {},
     "output_type": "execute_result"
    }
   ],
   "source": [
    "callcenter[duplicates]"
   ]
  },
  {
   "cell_type": "markdown",
   "metadata": {},
   "source": [
    "To keep our call ID unique we gonna remove one of these rows"
   ]
  },
  {
   "cell_type": "code",
   "execution_count": null,
   "metadata": {},
   "outputs": [],
   "source": [
    "callcenter.drop(index=46379, inplace=True)"
   ]
  },
  {
   "cell_type": "code",
   "execution_count": null,
   "metadata": {},
   "outputs": [
    {
     "data": {
      "text/plain": [
       "True"
      ]
     },
     "execution_count": 79,
     "metadata": {},
     "output_type": "execute_result"
    }
   ],
   "source": [
    "# let's check again \n",
    "callcenter['Call ID'].is_unique\n"
   ]
  },
  {
   "cell_type": "markdown",
   "metadata": {},
   "source": [
    "We gonna extrack some columns from variabel date year, month, day."
   ]
  },
  {
   "cell_type": "code",
   "execution_count": null,
   "metadata": {},
   "outputs": [],
   "source": [
    "#Year\n",
    "callcenter['Year']= callcenter['Call Date'].dt.year"
   ]
  },
  {
   "cell_type": "code",
   "execution_count": null,
   "metadata": {},
   "outputs": [],
   "source": [
    "# Month\n",
    "callcenter['Month']= callcenter['Call Date'].dt.month"
   ]
  },
  {
   "cell_type": "code",
   "execution_count": null,
   "metadata": {},
   "outputs": [],
   "source": [
    "#Day\n",
    "callcenter['Day']= callcenter['Call Date'].dt.day"
   ]
  },
  {
   "cell_type": "markdown",
   "metadata": {},
   "source": [
    "# Plotting some charts "
   ]
  },
  {
   "cell_type": "code",
   "execution_count": null,
   "metadata": {},
   "outputs": [
    {
     "data": {
      "text/plain": [
       "array([[<Axes: title={'center': 'Query Type'}>]], dtype=object)"
      ]
     },
     "execution_count": 83,
     "metadata": {},
     "output_type": "execute_result"
    },
    {
     "data": {
      "image/png": "[encoded data removed]",
      "text/plain": [
       "<Figure size 600x400 with 1 Axes>"
      ]
     },
     "metadata": {},
     "output_type": "display_data"
    }
   ],
   "source": [
    "# Histograms\n",
    "callcenter.hist(column='Query Type', figsize=(6,4))"
   ]
  },
  {
   "cell_type": "code",
   "execution_count": null,
   "metadata": {},
   "outputs": [
    {
     "data": {
      "text/plain": [
       "<Axes: ylabel='Density'>"
      ]
     },
     "execution_count": 104,
     "metadata": {},
     "output_type": "execute_result"
    },
    {
     "data": {
      "image/png": "[encoded data removed]",
      "text/plain": [
       "<Figure size 600x600 with 1 Axes>"
      ]
     },
     "metadata": {},
     "output_type": "display_data"
    }
   ],
   "source": [
    "# Density Plot\n",
    "callcenter['Satisfaction'].plot(kind='density', figsize=(6,6),xlim=(0,5), xlabel=\"Satisfication\", ylabel=\"Frequency\")"
   ]
  },
  {
   "cell_type": "code",
   "execution_count": null,
   "metadata": {},
   "outputs": [
    {
     "data": {
      "text/html": [
       "<div>\n",
       "<style scoped>\n",
       "    .dataframe tbody tr th:only-of-type {\n",
       "        vertical-align: middle;\n",
       "    }\n",
       "\n",
       "    .dataframe tbody tr th {\n",
       "        vertical-align: top;\n",
       "    }\n",
       "\n",
       "    .dataframe thead th {\n",
       "        text-align: right;\n",
       "    }\n",
       "</style>\n",
       "<table border=\"1\" class=\"dataframe\">\n",
       "  <thead>\n",
       "    <tr style=\"text-align: right;\">\n",
       "      <th>col_0</th>\n",
       "      <th>count</th>\n",
       "    </tr>\n",
       "    <tr>\n",
       "      <th>Agent Name</th>\n",
       "      <th></th>\n",
       "    </tr>\n",
       "  </thead>\n",
       "  <tbody>\n",
       "    <tr>\n",
       "      <th>Adams</th>\n",
       "      <td>9566</td>\n",
       "    </tr>\n",
       "    <tr>\n",
       "      <th>Berkhart</th>\n",
       "      <td>8689</td>\n",
       "    </tr>\n",
       "    <tr>\n",
       "      <th>Daniels</th>\n",
       "      <td>1723</td>\n",
       "    </tr>\n",
       "    <tr>\n",
       "      <th>DuPreez</th>\n",
       "      <td>8083</td>\n",
       "    </tr>\n",
       "    <tr>\n",
       "      <th>Ellis</th>\n",
       "      <td>1214</td>\n",
       "    </tr>\n",
       "    <tr>\n",
       "      <th>Grojovin</th>\n",
       "      <td>1463</td>\n",
       "    </tr>\n",
       "    <tr>\n",
       "      <th>Katz</th>\n",
       "      <td>2486</td>\n",
       "    </tr>\n",
       "    <tr>\n",
       "      <th>Stevens</th>\n",
       "      <td>8981</td>\n",
       "    </tr>\n",
       "  </tbody>\n",
       "</table>\n",
       "</div>"
      ],
      "text/plain": [
       "col_0       count\n",
       "Agent Name       \n",
       "Adams        9566\n",
       "Berkhart     8689\n",
       "Daniels      1723\n",
       "DuPreez      8083\n",
       "Ellis        1214\n",
       "Grojovin     1463\n",
       "Katz         2486\n",
       "Stevens      8981"
      ]
     },
     "execution_count": 105,
     "metadata": {},
     "output_type": "execute_result"
    }
   ],
   "source": [
    "# barplot\n",
    "AgentNameBar_table= pd.crosstab(index=callcenter['Agent Name'], columns=\"count\")\n",
    "AgentNameBar_table"
   ]
  },
  {
   "cell_type": "code",
   "execution_count": null,
   "metadata": {},
   "outputs": [
    {
     "data": {
      "text/plain": [
       "<Axes: title={'center': 'Number of calls by Agent'}, xlabel='Agent Name', ylabel='Count of calls'>"
      ]
     },
     "execution_count": 106,
     "metadata": {},
     "output_type": "execute_result"
    },
    {
     "data": {
      "image/png": "[encoded data removed]",
      "text/plain": [
       "<Figure size 600x600 with 1 Axes>"
      ]
     },
     "metadata": {},
     "output_type": "display_data"
    }
   ],
   "source": [
    "AgentNameBar_table.plot(kind='bar', figsize=(6,6), ylabel=\"Count of calls\", title=\"Number of calls by Agent\")"
   ]
  },
  {
   "cell_type": "code",
   "execution_count": null,
   "metadata": {},
   "outputs": [
    {
     "data": {
      "text/html": [
       "<div>\n",
       "<style scoped>\n",
       "    .dataframe tbody tr th:only-of-type {\n",
       "        vertical-align: middle;\n",
       "    }\n",
       "\n",
       "    .dataframe tbody tr th {\n",
       "        vertical-align: top;\n",
       "    }\n",
       "\n",
       "    .dataframe thead th {\n",
       "        text-align: right;\n",
       "    }\n",
       "</style>\n",
       "<table border=\"1\" class=\"dataframe\">\n",
       "  <thead>\n",
       "    <tr style=\"text-align: right;\">\n",
       "      <th>Priority</th>\n",
       "      <th>High</th>\n",
       "      <th>Medium</th>\n",
       "      <th>Low</th>\n",
       "    </tr>\n",
       "    <tr>\n",
       "      <th>Agent Name</th>\n",
       "      <th></th>\n",
       "      <th></th>\n",
       "      <th></th>\n",
       "    </tr>\n",
       "  </thead>\n",
       "  <tbody>\n",
       "    <tr>\n",
       "      <th>Adams</th>\n",
       "      <td>2859</td>\n",
       "      <td>5321</td>\n",
       "      <td>1386</td>\n",
       "    </tr>\n",
       "    <tr>\n",
       "      <th>Berkhart</th>\n",
       "      <td>2470</td>\n",
       "      <td>5024</td>\n",
       "      <td>1195</td>\n",
       "    </tr>\n",
       "    <tr>\n",
       "      <th>Daniels</th>\n",
       "      <td>760</td>\n",
       "      <td>613</td>\n",
       "      <td>350</td>\n",
       "    </tr>\n",
       "    <tr>\n",
       "      <th>DuPreez</th>\n",
       "      <td>1786</td>\n",
       "      <td>5320</td>\n",
       "      <td>977</td>\n",
       "    </tr>\n",
       "    <tr>\n",
       "      <th>Ellis</th>\n",
       "      <td>441</td>\n",
       "      <td>532</td>\n",
       "      <td>241</td>\n",
       "    </tr>\n",
       "    <tr>\n",
       "      <th>Grojovin</th>\n",
       "      <td>475</td>\n",
       "      <td>640</td>\n",
       "      <td>348</td>\n",
       "    </tr>\n",
       "    <tr>\n",
       "      <th>Katz</th>\n",
       "      <td>739</td>\n",
       "      <td>1472</td>\n",
       "      <td>275</td>\n",
       "    </tr>\n",
       "    <tr>\n",
       "      <th>Stevens</th>\n",
       "      <td>3023</td>\n",
       "      <td>4318</td>\n",
       "      <td>1640</td>\n",
       "    </tr>\n",
       "  </tbody>\n",
       "</table>\n",
       "</div>"
      ],
      "text/plain": [
       "Priority    High  Medium   Low\n",
       "Agent Name                    \n",
       "Adams       2859    5321  1386\n",
       "Berkhart    2470    5024  1195\n",
       "Daniels      760     613   350\n",
       "DuPreez     1786    5320   977\n",
       "Ellis        441     532   241\n",
       "Grojovin     475     640   348\n",
       "Katz         739    1472   275\n",
       "Stevens     3023    4318  1640"
      ]
     },
     "execution_count": 107,
     "metadata": {},
     "output_type": "execute_result"
    }
   ],
   "source": [
    "AgentNameWithPriorityBar_table= pd.crosstab(index=callcenter['Agent Name'], columns=callcenter['Priority'])\n",
    "AgentNameWithPriorityBar_table"
   ]
  },
  {
   "cell_type": "code",
   "execution_count": null,
   "metadata": {},
   "outputs": [
    {
     "data": {
      "text/plain": [
       "<Axes: title={'center': 'Calls by Priority Across Agents'}, xlabel='Agent Name'>"
      ]
     },
     "execution_count": 109,
     "metadata": {},
     "output_type": "execute_result"
    },
    {
     "data": {
      "image/png": "[encoded data removed]",
      "text/plain": [
       "<Figure size 600x600 with 1 Axes>"
      ]
     },
     "metadata": {},
     "output_type": "display_data"
    }
   ],
   "source": [
    "AgentNameWithPriorityBar_table.plot(kind='bar', figsize=(6,6), stacked=True, title=\"Calls by Priority Across Agents\")"
   ]
  },
  {
   "cell_type": "code",
   "execution_count": null,
   "metadata": {},
   "outputs": [
    {
     "data": {
      "text/plain": [
       "<Axes: title={'center': 'Number of Calls Across The 7 Months'}, xlabel='Month'>"
      ]
     },
     "execution_count": 118,
     "metadata": {},
     "output_type": "execute_result"
    },
    {
     "data": {
      "image/png": "[encoded data removed]",
      "text/plain": [
       "<Figure size 640x480 with 1 Axes>"
      ]
     },
     "metadata": {},
     "output_type": "display_data"
    }
   ],
   "source": [
    "# Line chart to see number of calls across the 7 Months \n",
    "callcenter.plot(x=\"Month\", y='Call ID', title=\"Number of Calls Across The 7 Months\")"
   ]
  }
 ],
 "metadata": {
  "kernelspec": {
   "display_name": "Python 3",
   "language": "python",
   "name": "python3"
  },
  "language_info": {
   "codemirror_mode": {
    "name": "ipython",
    "version": 3
   },
   "file_extension": ".py",
   "mimetype": "text/x-python",
   "name": "python",
   "nbconvert_exporter": "python",
   "pygments_lexer": "ipython3",
   "version": "3.12.3"
  }
 },
 "nbformat": 4,
 "nbformat_minor": 2
}
